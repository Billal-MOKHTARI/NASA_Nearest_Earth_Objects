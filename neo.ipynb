{
 "cells": [
  {
   "cell_type": "markdown",
   "metadata": {},
   "source": [
    "<h2>Context</h2>\n",
    "<p>There is an infinite number of objects in the outer space. Some of them are closer than we think. Even though we might think that a distance of 70,000 Km can not potentially harm us, but at an astronomical scale, this is a very small distance and can disrupt many natural phenomena. These objects/asteroids can thus prove to be harmful. Hence, it is wise to know what is surrounding us and what can harm us amongst those. Thus, this dataset compiles the list of NASA certified asteroids that are classified as the nearest earth object.</p>"
   ]
  },
  {
   "cell_type": "markdown",
   "metadata": {},
   "source": [
    "<h1 style=\"font-size : 30px\">Importations</h1>"
   ]
  },
  {
   "cell_type": "code",
   "execution_count": 110,
   "metadata": {},
   "outputs": [],
   "source": [
    "import os\n",
    "os.environ['TF_CPP_MIN_LOG_LEVEL'] = '2'\n",
    "import tensorflow as tf\n",
    "from tensorflow import keras\n",
    "from tensorflow.keras import layers\n",
    "from sklearn.model_selection import train_test_split\n",
    "import matplotlib\n",
    "import matplotlib.pyplot as plt\n",
    "import pandas as pd"
   ]
  },
  {
   "cell_type": "markdown",
   "metadata": {},
   "source": [
    "<h1 style=\"font-size : 30px\">Read Data</h1>"
   ]
  },
  {
   "cell_type": "code",
   "execution_count": 113,
   "metadata": {},
   "outputs": [
    {
     "name": "stdout",
     "output_type": "stream",
     "text": [
      "X shape is :  (90836, 5)\n",
      "y shape is :  (90836, 1)\n"
     ]
    }
   ],
   "source": [
    "head_x = ['est_diameter_min', 'est_diameter_max', 'relative_velocity', 'miss_distance', 'absolute_magnitude']\n",
    "head_y = 'hazardous'\n",
    "data = pd.read_csv('neo.csv')\n",
    "X = data[head_x]\n",
    "y = pd.DataFrame(data[head_y].astype(int))\n",
    "print(\"X shape is : \", X.shape)\n",
    "print(\"y shape is : \", y.shape)"
   ]
  },
  {
   "cell_type": "code",
   "execution_count": 117,
   "metadata": {},
   "outputs": [
    {
     "name": "stdout",
     "output_type": "stream",
     "text": [
      "X_train shape is : (72668, 5)\n",
      "X_test  shape is : (18168, 5)\n"
     ]
    }
   ],
   "source": [
    "X_train, X_test, y_train, y_test = train_test_split(X, y, train_size=0.8, shuffle=True)\n",
    "print(\"X_train shape is :\", X_train.shape)\n",
    "print(\"X_test  shape is :\", X_test.shape)"
   ]
  },
  {
   "cell_type": "markdown",
   "metadata": {},
   "source": [
    "<h1 style=\"font-size : 30px\">Model creation</h1>\n",
    "<p>We'll use Neural Network to train our model</p>"
   ]
  },
  {
   "cell_type": "code",
   "execution_count": 116,
   "metadata": {},
   "outputs": [
    {
     "name": "stdout",
     "output_type": "stream",
     "text": [
      "Model: \"sequential_16\"\n",
      "_________________________________________________________________\n",
      " Layer (type)                Output Shape              Param #   \n",
      "=================================================================\n",
      " L1 (Dense)                  (None, 10)                60        \n",
      "                                                                 \n",
      " L2 (Dense)                  (None, 7)                 77        \n",
      "                                                                 \n",
      " L3 (Dense)                  (None, 7)                 56        \n",
      "                                                                 \n",
      " L4 (Dense)                  (None, 5)                 40        \n",
      "                                                                 \n",
      " L5 (Dense)                  (None, 5)                 30        \n",
      "                                                                 \n",
      " L6 (Dense)                  (None, 4)                 24        \n",
      "                                                                 \n",
      " dense_17 (Dense)            (None, 1)                 5         \n",
      "                                                                 \n",
      "=================================================================\n",
      "Total params: 292\n",
      "Trainable params: 292\n",
      "Non-trainable params: 0\n",
      "_________________________________________________________________\n"
     ]
    }
   ],
   "source": [
    "model = keras.Sequential(\n",
    "    [\n",
    "        layers.Input(shape=X.shape[1], name='input'),\n",
    "        layers.Dense(10, kernel_initializer='uniform', activation='relu', name=\"L1\"),\n",
    "        layers.Dense(7, activation='relu', name=\"L2\"),\n",
    "        layers.Dense(7, activation='relu', name=\"L3\"),\n",
    "        layers.Dense(5, activation='relu', name=\"L4\"),\n",
    "        layers.Dense(5, activation='relu', name=\"L5\"),\n",
    "        layers.Dense(4, activation='relu', name=\"L6\"),\n",
    "        layers.Dense(1, activation='sigmoid')\n",
    "    ]\n",
    ")\n",
    "\n",
    "opt = keras.optimizers.Adam(learning_rate=0.01, beta_1=0.9, beta_2=0.99, epsilon=10e-8)\n",
    "model.compile(\n",
    "    optimizer = opt,\n",
    "    loss = keras.losses.binary_crossentropy,\n",
    "    metrics = ['accuracy']\n",
    ")\n",
    "\n",
    "model.summary()"
   ]
  },
  {
   "cell_type": "markdown",
   "metadata": {},
   "source": [
    "<h3>Model training</h3>"
   ]
  },
  {
   "cell_type": "code",
   "execution_count": 118,
   "metadata": {},
   "outputs": [
    {
     "name": "stdout",
     "output_type": "stream",
     "text": [
      "Epoch 1/50\n",
      "59/59 [==============================] - 2s 12ms/step - loss: 858.8457 - accuracy: 0.8334 - val_loss: 0.5283 - val_accuracy: 0.9035\n",
      "Epoch 2/50\n",
      "59/59 [==============================] - 0s 6ms/step - loss: 0.4753 - accuracy: 0.9025 - val_loss: 0.4266 - val_accuracy: 0.9035\n",
      "Epoch 3/50\n",
      "59/59 [==============================] - 0s 6ms/step - loss: 0.3972 - accuracy: 0.9025 - val_loss: 0.3698 - val_accuracy: 0.9035\n",
      "Epoch 4/50\n",
      "59/59 [==============================] - 0s 6ms/step - loss: 0.3552 - accuracy: 0.9025 - val_loss: 0.3404 - val_accuracy: 0.9035\n",
      "Epoch 5/50\n",
      "59/59 [==============================] - 0s 6ms/step - loss: 0.3343 - accuracy: 0.9025 - val_loss: 0.3263 - val_accuracy: 0.9035\n",
      "Epoch 6/50\n",
      "59/59 [==============================] - 0s 6ms/step - loss: 0.3247 - accuracy: 0.9025 - val_loss: 0.3202 - val_accuracy: 0.9035\n",
      "Epoch 7/50\n",
      "59/59 [==============================] - 0s 6ms/step - loss: 0.3210 - accuracy: 0.9025 - val_loss: 0.3181 - val_accuracy: 0.9035\n",
      "Epoch 8/50\n",
      "59/59 [==============================] - 0s 8ms/step - loss: 0.3198 - accuracy: 0.9025 - val_loss: 0.3175 - val_accuracy: 0.9035\n",
      "Epoch 9/50\n",
      "59/59 [==============================] - 0s 7ms/step - loss: 0.3195 - accuracy: 0.9025 - val_loss: 0.3174 - val_accuracy: 0.9035\n",
      "Epoch 10/50\n",
      "59/59 [==============================] - 0s 7ms/step - loss: 0.3195 - accuracy: 0.9025 - val_loss: 0.3174 - val_accuracy: 0.9035\n",
      "Epoch 11/50\n",
      "59/59 [==============================] - 0s 7ms/step - loss: 0.3195 - accuracy: 0.9025 - val_loss: 0.3174 - val_accuracy: 0.9035\n",
      "Epoch 12/50\n",
      "59/59 [==============================] - 0s 6ms/step - loss: 0.3195 - accuracy: 0.9025 - val_loss: 0.3174 - val_accuracy: 0.9035\n",
      "Epoch 13/50\n",
      "59/59 [==============================] - 0s 7ms/step - loss: 0.3195 - accuracy: 0.9025 - val_loss: 0.3174 - val_accuracy: 0.9035\n",
      "Epoch 14/50\n",
      "59/59 [==============================] - 0s 6ms/step - loss: 0.3195 - accuracy: 0.9025 - val_loss: 0.3174 - val_accuracy: 0.9035\n",
      "Epoch 15/50\n",
      "59/59 [==============================] - 1s 9ms/step - loss: 0.3196 - accuracy: 0.9025 - val_loss: 0.3174 - val_accuracy: 0.9035\n",
      "Epoch 16/50\n",
      "59/59 [==============================] - 0s 8ms/step - loss: 0.3195 - accuracy: 0.9025 - val_loss: 0.3174 - val_accuracy: 0.9035\n",
      "Epoch 17/50\n",
      "59/59 [==============================] - 0s 7ms/step - loss: 0.3196 - accuracy: 0.9025 - val_loss: 0.3174 - val_accuracy: 0.9035\n",
      "Epoch 18/50\n",
      "59/59 [==============================] - 0s 6ms/step - loss: 0.3195 - accuracy: 0.9025 - val_loss: 0.3174 - val_accuracy: 0.9035\n",
      "Epoch 19/50\n",
      "59/59 [==============================] - 0s 6ms/step - loss: 0.3196 - accuracy: 0.9025 - val_loss: 0.3174 - val_accuracy: 0.9035\n",
      "Epoch 20/50\n",
      "59/59 [==============================] - 0s 7ms/step - loss: 0.3195 - accuracy: 0.9025 - val_loss: 0.3175 - val_accuracy: 0.9035\n",
      "Epoch 21/50\n",
      "59/59 [==============================] - 0s 6ms/step - loss: 0.3197 - accuracy: 0.9025 - val_loss: 0.3174 - val_accuracy: 0.9035\n",
      "Epoch 22/50\n",
      "59/59 [==============================] - 0s 6ms/step - loss: 0.3196 - accuracy: 0.9025 - val_loss: 0.3174 - val_accuracy: 0.9035\n",
      "Epoch 23/50\n",
      "59/59 [==============================] - 1s 9ms/step - loss: 0.3195 - accuracy: 0.9025 - val_loss: 0.3174 - val_accuracy: 0.9035\n",
      "Epoch 24/50\n",
      "59/59 [==============================] - 0s 6ms/step - loss: 0.3195 - accuracy: 0.9025 - val_loss: 0.3174 - val_accuracy: 0.9035\n",
      "Epoch 25/50\n",
      "59/59 [==============================] - 0s 6ms/step - loss: 0.3196 - accuracy: 0.9025 - val_loss: 0.3174 - val_accuracy: 0.9035\n",
      "Epoch 26/50\n",
      "59/59 [==============================] - 0s 6ms/step - loss: 0.3195 - accuracy: 0.9025 - val_loss: 0.3174 - val_accuracy: 0.9035\n",
      "Epoch 27/50\n",
      "59/59 [==============================] - 0s 8ms/step - loss: 0.3195 - accuracy: 0.9025 - val_loss: 0.3174 - val_accuracy: 0.9035\n",
      "Epoch 28/50\n",
      "59/59 [==============================] - 0s 7ms/step - loss: 0.3195 - accuracy: 0.9025 - val_loss: 0.3174 - val_accuracy: 0.9035\n",
      "Epoch 29/50\n",
      "59/59 [==============================] - 0s 8ms/step - loss: 0.3195 - accuracy: 0.9025 - val_loss: 0.3174 - val_accuracy: 0.9035\n",
      "Epoch 30/50\n",
      "59/59 [==============================] - 0s 8ms/step - loss: 0.3195 - accuracy: 0.9025 - val_loss: 0.3174 - val_accuracy: 0.9035\n",
      "Epoch 31/50\n",
      "59/59 [==============================] - 0s 8ms/step - loss: 0.3195 - accuracy: 0.9025 - val_loss: 0.3174 - val_accuracy: 0.9035\n",
      "Epoch 32/50\n",
      "59/59 [==============================] - 0s 7ms/step - loss: 0.3195 - accuracy: 0.9025 - val_loss: 0.3174 - val_accuracy: 0.9035\n",
      "Epoch 33/50\n",
      "59/59 [==============================] - 0s 8ms/step - loss: 0.3195 - accuracy: 0.9025 - val_loss: 0.3174 - val_accuracy: 0.9035\n",
      "Epoch 34/50\n",
      "59/59 [==============================] - 0s 7ms/step - loss: 0.3195 - accuracy: 0.9025 - val_loss: 0.3174 - val_accuracy: 0.9035\n",
      "Epoch 35/50\n",
      "59/59 [==============================] - 1s 8ms/step - loss: 0.3196 - accuracy: 0.9025 - val_loss: 0.3174 - val_accuracy: 0.9035\n",
      "Epoch 36/50\n",
      "59/59 [==============================] - 0s 6ms/step - loss: 0.3195 - accuracy: 0.9025 - val_loss: 0.3174 - val_accuracy: 0.9035\n",
      "Epoch 37/50\n",
      "59/59 [==============================] - 0s 6ms/step - loss: 0.3195 - accuracy: 0.9025 - val_loss: 0.3174 - val_accuracy: 0.9035\n",
      "Epoch 38/50\n",
      "59/59 [==============================] - 0s 6ms/step - loss: 0.3195 - accuracy: 0.9025 - val_loss: 0.3174 - val_accuracy: 0.9035\n",
      "Epoch 39/50\n",
      "59/59 [==============================] - 0s 7ms/step - loss: 0.3195 - accuracy: 0.9025 - val_loss: 0.3174 - val_accuracy: 0.9035\n",
      "Epoch 40/50\n",
      "59/59 [==============================] - 0s 6ms/step - loss: 0.3195 - accuracy: 0.9025 - val_loss: 0.3174 - val_accuracy: 0.9035\n",
      "Epoch 41/50\n",
      "59/59 [==============================] - 0s 6ms/step - loss: 0.3195 - accuracy: 0.9025 - val_loss: 0.3174 - val_accuracy: 0.9035\n",
      "Epoch 42/50\n",
      "59/59 [==============================] - 0s 6ms/step - loss: 0.3195 - accuracy: 0.9025 - val_loss: 0.3174 - val_accuracy: 0.9035\n",
      "Epoch 43/50\n",
      "59/59 [==============================] - 0s 7ms/step - loss: 0.3195 - accuracy: 0.9025 - val_loss: 0.3174 - val_accuracy: 0.9035\n",
      "Epoch 44/50\n",
      "59/59 [==============================] - 0s 7ms/step - loss: 0.3195 - accuracy: 0.9025 - val_loss: 0.3174 - val_accuracy: 0.9035\n",
      "Epoch 45/50\n",
      "59/59 [==============================] - 0s 6ms/step - loss: 0.3195 - accuracy: 0.9025 - val_loss: 0.3174 - val_accuracy: 0.9035\n",
      "Epoch 46/50\n",
      "59/59 [==============================] - 0s 6ms/step - loss: 0.3195 - accuracy: 0.9025 - val_loss: 0.3174 - val_accuracy: 0.9035\n",
      "Epoch 47/50\n",
      "59/59 [==============================] - 0s 6ms/step - loss: 0.3195 - accuracy: 0.9025 - val_loss: 0.3174 - val_accuracy: 0.9035\n",
      "Epoch 48/50\n",
      "59/59 [==============================] - 0s 6ms/step - loss: 0.3195 - accuracy: 0.9025 - val_loss: 0.3174 - val_accuracy: 0.9035\n",
      "Epoch 49/50\n",
      "59/59 [==============================] - 0s 6ms/step - loss: 0.3195 - accuracy: 0.9025 - val_loss: 0.3174 - val_accuracy: 0.9035\n",
      "Epoch 50/50\n",
      "59/59 [==============================] - 0s 6ms/step - loss: 0.3195 - accuracy: 0.9025 - val_loss: 0.3174 - val_accuracy: 0.9035\n"
     ]
    }
   ],
   "source": [
    "history = model.fit(X_train, y_train, epochs=50, verbose=1, batch_size=1000, validation_split=0.2)"
   ]
  },
  {
   "cell_type": "code",
   "execution_count": 119,
   "metadata": {},
   "outputs": [
    {
     "name": "stdout",
     "output_type": "stream",
     "text": [
      "568/568 [==============================] - 2s 4ms/step - loss: 0.3194 - accuracy: 0.9026\n"
     ]
    },
    {
     "data": {
      "text/plain": [
       "[0.3194110691547394, 0.9025759696960449]"
      ]
     },
     "execution_count": 119,
     "metadata": {},
     "output_type": "execute_result"
    }
   ],
   "source": [
    "model.evaluate(X_test, y_test, verbose=1)"
   ]
  },
  {
   "cell_type": "markdown",
   "metadata": {},
   "source": [
    "<h3>Debbuging</h3>"
   ]
  },
  {
   "cell_type": "code",
   "execution_count": 131,
   "metadata": {},
   "outputs": [
    {
     "data": {
      "text/plain": [
       "(0.0, 1.0)"
      ]
     },
     "execution_count": 131,
     "metadata": {},
     "output_type": "execute_result"
    },
    {
     "data": {
      "image/png": "[encoded data removed]",
      "text/plain": [
       "<Figure size 720x216 with 1 Axes>"
      ]
     },
     "metadata": {
      "needs_background": "light"
     },
     "output_type": "display_data"
    }
   ],
   "source": [
    "debug  = history.history\n",
    "plt.plot(debug['loss'])\n",
    "plt.plot(debug['val_loss'])\n",
    "plt.rcParams[\"figure.figsize\"] = (10,3)\n",
    "plt.ylim(bottom=0, top=1)"
   ]
  }
 ],
 "metadata": {
  "kernelspec": {
   "display_name": "Python 3.10.5 64-bit",
   "language": "python",
   "name": "python3"
  },
  "language_info": {
   "codemirror_mode": {
    "name": "ipython",
    "version": 3
   },
   "file_extension": ".py",
   "mimetype": "text/x-python",
   "name": "python",
   "nbconvert_exporter": "python",
   "pygments_lexer": "ipython3",
   "version": "3.10.5"
  },
  "orig_nbformat": 4,
  "vscode": {
   "interpreter": {
    "hash": "9dfe686aeba1a388ed1ee1fc3ff664767cb5bee6e567082c13d57db22cb974b5"
   }
  }
 },
 "nbformat": 4,
 "nbformat_minor": 2
}
